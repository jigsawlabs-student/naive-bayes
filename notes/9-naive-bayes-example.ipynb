{
 "cells": [
  {
   "cell_type": "markdown",
   "metadata": {},
   "source": [
    "# Naive Bayes"
   ]
  },
  {
   "cell_type": "markdown",
   "metadata": {},
   "source": [
    "### Introduction"
   ]
  },
  {
   "cell_type": "markdown",
   "metadata": {},
   "source": [
    "Netflix, to know the probability people like a movie, then can just count:"
   ]
  },
  {
   "cell_type": "markdown",
   "metadata": {},
   "source": [
    "$P(E) = \\displaystyle{\\lim_{n \\to \\infty}} \\frac{n(E)}{n}$"
   ]
  },
  {
   "cell_type": "markdown",
   "metadata": {},
   "source": [
    "But really netflix, contextualizes this with the following:"
   ]
  },
  {
   "cell_type": "markdown",
   "metadata": {},
   "source": [
    "$P(E|F) = \\frac{P(EF)}{P(F)}$"
   ]
  },
  {
   "cell_type": "markdown",
   "metadata": {},
   "source": [
    "### Background for Bayes"
   ]
  },
  {
   "cell_type": "markdown",
   "metadata": {},
   "source": [
    "Let's bring our conversation probability into the context of classification metrics.  Let's say that, in the diagram below, the circle F is all of our predicted positive observations.  And the circle E represents all of our actual positive observations.  "
   ]
  },
  {
   "cell_type": "markdown",
   "metadata": {},
   "source": [
    "* $F$: Predicted positive\n",
    "* $E$: Actual positive "
   ]
  },
  {
   "cell_type": "markdown",
   "metadata": {},
   "source": [
    "Let's say that we want to calculate our precision.  Remember that $precision = \\frac{TP}{TP + FP}.$"
   ]
  },
  {
   "cell_type": "markdown",
   "metadata": {},
   "source": [
    "<img src=\"./conditional-probability.png\" width=\"60%\">"
   ]
  },
  {
   "cell_type": "markdown",
   "metadata": {},
   "source": [
    "In other words, precision the smaller wedge divided by the full triangle F."
   ]
  },
  {
   "cell_type": "markdown",
   "metadata": {},
   "source": [
    "$Precision = \\frac{P(TP)}{P(\\text{Predicted Positive})} = \\frac{P(FE)}{P(F)}$"
   ]
  },
  {
   "cell_type": "markdown",
   "metadata": {},
   "source": [
    "And of course, we can break $F$ down into our true positives and false positives:"
   ]
  },
  {
   "cell_type": "markdown",
   "metadata": {},
   "source": [
    "$Precision = \\frac{P(TP)}{P(TP) + P(FP)} = \\frac{P(FE)}{P(FE) + P(FE^C)} $"
   ]
  },
  {
   "cell_type": "markdown",
   "metadata": {},
   "source": [
    "And just to state what precision is, in terms of probability, this is the probability of a $TP$, assuming a prediction of positive."
   ]
  },
  {
   "cell_type": "markdown",
   "metadata": {},
   "source": [
    "$Precision = P(E|F) = \\frac{P(TP)}{P(TP) + P(FP)} = \\frac{P(FE)}{P(FE) + P(FE^C)} $"
   ]
  },
  {
   "cell_type": "markdown",
   "metadata": {},
   "source": [
    "Once here, we can apply the chain rule.  That is, we can replace: \n",
    "* $P(FE) = P(F|E)*P(E)$ and \n",
    "* $P(FE^c) = P(F|E^c)*P(E^c)$."
   ]
  },
  {
   "cell_type": "markdown",
   "metadata": {},
   "source": [
    "So this gives us the following:"
   ]
  },
  {
   "cell_type": "markdown",
   "metadata": {},
   "source": [
    "$ P(E|F) = \\frac{P(TP)}{P(TP) + P(FP)} =\\frac{P(FE)}{P(FE) + P(FE^C)} =  \\frac{P(F|E)*P(E)}{P(F|E)*P(E) + P(F|E^c)*P(E^c)} $"
   ]
  },
  {
   "cell_type": "markdown",
   "metadata": {},
   "source": [
    "This is called Bayes Theorem.  The reason why it is important is because many times we will have $P(E|F)$ (precision) and will want recall, $P(F|E)$, or vice versa.  "
   ]
  },
  {
   "cell_type": "markdown",
   "metadata": {},
   "source": [
    "### Working through an example"
   ]
  },
  {
   "cell_type": "markdown",
   "metadata": {},
   "source": [
    "Now let's see some numbers.  Let's again define the following:\n",
    "\n",
    "* $F$: Predicted positive\n",
    "* $E$: Actual positive "
   ]
  },
  {
   "cell_type": "markdown",
   "metadata": {},
   "source": [
    "$P(F | E) = P(\\text{ Predictive positive} | \\text{Actual Positive})$"
   ]
  },
  {
   "cell_type": "markdown",
   "metadata": {},
   "source": [
    "### HIV Testing Example"
   ]
  },
  {
   "cell_type": "markdown",
   "metadata": {},
   "source": [
    "> The idea, is that new evidence, does not determine beliefs in a background, but rather should update prior beliefs."
   ]
  },
  {
   "cell_type": "markdown",
   "metadata": {},
   "source": [
    "<img src=\"./bayes-3blue.png\" width=\"30%\">"
   ]
  },
  {
   "cell_type": "markdown",
   "metadata": {},
   "source": [
    "Use bayes when have some *hypothesis*, and observe evidence, and then want hypothesis, given evidence is true."
   ]
  },
  {
   "cell_type": "markdown",
   "metadata": {},
   "source": [
    "* $P(H) = prior$\n",
    "* $P(E|H) = likelihood $\n",
    "> Prob of evidence given a specific hypothesis (prob shy given librarian)\n",
    "\n",
    "* $P(E | H^c) = $\n",
    "> Prob of evidence given it's not true "
   ]
  },
  {
   "cell_type": "markdown",
   "metadata": {},
   "source": [
    "* $Posterior = P(H|E) =$ belief after seeing the evidence."
   ]
  },
  {
   "cell_type": "markdown",
   "metadata": {},
   "source": [
    "A test is .98 effective at detecting HIV.  And has a false positive rate of 1%.  And .5% of the population has HIV.  What's the probability we have hiv if we test positive."
   ]
  },
  {
   "cell_type": "markdown",
   "metadata": {},
   "source": [
    "* Let E = test positive for HIV with the test\n",
    "* Let F = you actually have HIV."
   ]
  },
  {
   "cell_type": "markdown",
   "metadata": {},
   "source": [
    "> False positive rate is defined $\\frac{\\text{false positive}}{\\text{condition negative}}$."
   ]
  },
  {
   "cell_type": "markdown",
   "metadata": {},
   "source": [
    "* $P(F) = .005$\n",
    "* $P(E|F^c) = .01$ \n",
    "* $P(F^c) = .995$\n",
    "* $P(E|F) = .98$ (Recall)"
   ]
  },
  {
   "cell_type": "markdown",
   "metadata": {},
   "source": [
    "$P(F|E)  = \\frac{True Positive}{TP + FP}$"
   ]
  },
  {
   "cell_type": "markdown",
   "metadata": {},
   "source": [
    "$\\frac{.98*.005}{.98*.005 + .01*.995}$ = "
   ]
  },
  {
   "cell_type": "code",
   "execution_count": 3,
   "metadata": {},
   "outputs": [
    {
     "data": {
      "text/plain": [
       "0.32996632996632996"
      ]
     },
     "execution_count": 3,
     "metadata": {},
     "output_type": "execute_result"
    }
   ],
   "source": [
    ".98*.005/(0.0049 + 0.00995)"
   ]
  },
  {
   "cell_type": "code",
   "execution_count": 2,
   "metadata": {},
   "outputs": [
    {
     "data": {
      "text/plain": [
       "0.00995"
      ]
     },
     "execution_count": 2,
     "metadata": {},
     "output_type": "execute_result"
    }
   ],
   "source": [
    ".01*.995"
   ]
  },
  {
   "cell_type": "markdown",
   "metadata": {},
   "source": [
    "### Intuition of why it works"
   ]
  },
  {
   "cell_type": "markdown",
   "metadata": {},
   "source": [
    "<img src=\"./bayes-intuition.png\">"
   ]
  },
  {
   "cell_type": "markdown",
   "metadata": {},
   "source": [
    "[Bayes Video](https://youtu.be/wB0z0nQebNc?list=PLcmJYc2muOR9H96hGlUBV2DkviVZFmHAh&t=3768)"
   ]
  },
  {
   "cell_type": "markdown",
   "metadata": {},
   "source": [
    "* General idea with bayes:\n",
    "    * Conditional probability - have a belief, and update belief given more information"
   ]
  },
  {
   "cell_type": "markdown",
   "metadata": {},
   "source": [
    "<img src=\"./conf-bayes.png\" width=\"70%\">"
   ]
  },
  {
   "cell_type": "markdown",
   "metadata": {},
   "source": [
    "$P(F|E^c) = \\frac{P(E^c | F) P(F)}{P(E^c|F)P(F) + P(E^c | F^c)P(F^c)} = .0001$"
   ]
  },
  {
   "cell_type": "code",
   "execution_count": 4,
   "metadata": {},
   "outputs": [
    {
     "data": {
      "text/plain": [
       "0.00010150738466223418"
      ]
     },
     "execution_count": 4,
     "metadata": {},
     "output_type": "execute_result"
    }
   ],
   "source": [
    "(.02*.005)/((.02*.005) + (.99*.995))\n",
    "# 0.00010150738466223418"
   ]
  },
  {
   "cell_type": "markdown",
   "metadata": {},
   "source": [
    "### Spam problem"
   ]
  },
  {
   "cell_type": "markdown",
   "metadata": {},
   "source": [
    "<img src=\"./email-spam.png\" width=\"40%\">"
   ]
  },
  {
   "cell_type": "markdown",
   "metadata": {},
   "source": [
    "### Resources"
   ]
  },
  {
   "cell_type": "markdown",
   "metadata": {},
   "source": [
    "[ML Mastery Naive Bayes Classifier](https://machinelearningmastery.com/naive-bayes-classifier-scratch-python/)"
   ]
  },
  {
   "cell_type": "markdown",
   "metadata": {},
   "source": [
    "[Naive Bayes - Python Data Science](https://jakevdp.github.io/PythonDataScienceHandbook/05.05-naive-bayes.html)\n",
    "\n",
    "[Sklearn Naive Bayes](https://scikit-learn.org/stable/modules/naive_bayes.html)"
   ]
  },
  {
   "cell_type": "code",
   "execution_count": null,
   "metadata": {},
   "outputs": [],
   "source": []
  }
 ],
 "metadata": {
  "kernelspec": {
   "display_name": "Python 3",
   "language": "python",
   "name": "python3"
  },
  "language_info": {
   "codemirror_mode": {
    "name": "ipython",
    "version": 3
   },
   "file_extension": ".py",
   "mimetype": "text/x-python",
   "name": "python",
   "nbconvert_exporter": "python",
   "pygments_lexer": "ipython3",
   "version": "3.7.4"
  }
 },
 "nbformat": 4,
 "nbformat_minor": 4
}
