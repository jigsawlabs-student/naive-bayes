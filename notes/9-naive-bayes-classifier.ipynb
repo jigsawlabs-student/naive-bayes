{
 "cells": [
  {
   "cell_type": "markdown",
   "metadata": {},
   "source": [
    "# Naive Bayes Classifier"
   ]
  },
  {
   "cell_type": "markdown",
   "metadata": {},
   "source": [
    "### Resources\n",
    "\n",
    "[Naive Bayes Classifier](https://dataaspirant.com/2017/02/06/naive-bayes-classifier-machine-learning/#:~:text=Naive%20Bayes%20Classifier,as%20the%20most%20likely%20class.)"
   ]
  },
  {
   "cell_type": "markdown",
   "metadata": {},
   "source": [
    "[Naive Bayes Classifier - Monkey Learn](https://monkeylearn.com/blog/practical-explanation-naive-bayes-classifier/)"
   ]
  },
  {
   "cell_type": "markdown",
   "metadata": {},
   "source": [
    "[Naive Bayes Columbia Student](https://towardsdatascience.com/naive-bayes-explained-9d2b96f4a9c0)"
   ]
  }
 ],
 "metadata": {
  "kernelspec": {
   "display_name": "Python 3",
   "language": "python",
   "name": "python3"
  },
  "language_info": {
   "codemirror_mode": {
    "name": "ipython",
    "version": 3
   },
   "file_extension": ".py",
   "mimetype": "text/x-python",
   "name": "python",
   "nbconvert_exporter": "python",
   "pygments_lexer": "ipython3",
   "version": "3.7.4"
  }
 },
 "nbformat": 4,
 "nbformat_minor": 4
}
