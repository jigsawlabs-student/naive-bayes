{
 "cells": [
  {
   "cell_type": "markdown",
   "metadata": {},
   "source": [
    "# Naive Bayes Lab"
   ]
  },
  {
   "cell_type": "markdown",
   "metadata": {},
   "source": [
    "### Introduction"
   ]
  },
  {
   "cell_type": "markdown",
   "metadata": {},
   "source": [
    "In this lesson, we'll use Bayes Theorem to solve different conditional probabilities.  Let's get started."
   ]
  },
  {
   "cell_type": "markdown",
   "metadata": {},
   "source": [
    "### Email Spam"
   ]
  },
  {
   "cell_type": "markdown",
   "metadata": {},
   "source": [
    "Say that we are trying to use Bayes Theorem to detect calculate the probability that an email is Spam.  We know the following:"
   ]
  },
  {
   "cell_type": "markdown",
   "metadata": {},
   "source": [
    "* $60$% of all email is Spam\n",
    "* $90$% of spam has a forged header\n",
    "* $20$% of non-spam has a forged header\n",
    "\n",
    "> * $E =$ message has a forged header\n",
    "> * $H =$ message is spam \n",
    "\n",
    "* What is $P(H|E)$?"
   ]
  },
  {
   "cell_type": "markdown",
   "metadata": {},
   "source": [
    "* $P(H) = .6$\n",
    "* $P(E|H) = .9$\n",
    "* $P(E|H^c) = .2$"
   ]
  },
  {
   "cell_type": "markdown",
   "metadata": {},
   "source": [
    "$P(H|E) = \\frac{P(E|H)*P(H)}{P(E)} = \\frac{P(E|H)*P(H)}{P(E|H)*P(H) + P(E|H^c)*P(H^c)}$"
   ]
  },
  {
   "cell_type": "code",
   "execution_count": 1,
   "metadata": {},
   "outputs": [
    {
     "data": {
      "text/plain": [
       "0.8709677419354838"
      ]
     },
     "execution_count": 1,
     "metadata": {},
     "output_type": "execute_result"
    }
   ],
   "source": [
    "(.6*.9)/(.6*.9 + .4*.2) \n",
    "\n",
    "# 0.8709677419354838"
   ]
  },
  {
   "cell_type": "markdown",
   "metadata": {},
   "source": [
    "### Diagnosing Covid"
   ]
  },
  {
   "cell_type": "markdown",
   "metadata": {},
   "source": [
    "The US has been suffering from Covid, which (assume) has infected 10% of the US population.\n",
    "\n",
    "We have a test kit recall of 90% and specificity of 70%.  That is, 90% of infected people in the US, test positive, and 70% of non-infected tested negative.\n",
    "\n",
    "If the test kit showed a positive result, what would be the probability that the tested subject was truly had covid?"
   ]
  },
  {
   "cell_type": "markdown",
   "metadata": {},
   "source": [
    "> Recall is .9"
   ]
  },
  {
   "cell_type": "markdown",
   "metadata": {},
   "source": [
    "* $P(H) = .1$\n",
    "* $P(E|H) = .9$\n",
    "* $P(E^c|H^c) = .7$\n",
    "* $P(E|H^c) = .3$"
   ]
  },
  {
   "cell_type": "markdown",
   "metadata": {},
   "source": [
    "$P(H|E) = \\frac{P(HE)}{P(E)} = \\frac{P(E|H)*P(H)}{P(E)}  = $"
   ]
  },
  {
   "cell_type": "code",
   "execution_count": 4,
   "metadata": {},
   "outputs": [
    {
     "data": {
      "text/plain": [
       "0.25"
      ]
     },
     "execution_count": 4,
     "metadata": {},
     "output_type": "execute_result"
    }
   ],
   "source": [
    ".9*.1/(.9*.1 + .9*.3)\n",
    "# .25"
   ]
  },
  {
   "cell_type": "markdown",
   "metadata": {},
   "source": []
  }
 ],
 "metadata": {
  "kernelspec": {
   "display_name": "Python 3",
   "language": "python",
   "name": "python3"
  },
  "language_info": {
   "codemirror_mode": {
    "name": "ipython",
    "version": 3
   },
   "file_extension": ".py",
   "mimetype": "text/x-python",
   "name": "python",
   "nbconvert_exporter": "python",
   "pygments_lexer": "ipython3",
   "version": "3.7.4"
  }
 },
 "nbformat": 4,
 "nbformat_minor": 4
}
