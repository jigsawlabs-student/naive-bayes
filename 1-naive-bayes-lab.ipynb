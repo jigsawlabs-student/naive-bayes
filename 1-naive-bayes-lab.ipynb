{
 "cells": [
  {
   "cell_type": "markdown",
   "metadata": {},
   "source": [
    "# Naive Bayes Lab"
   ]
  },
  {
   "cell_type": "markdown",
   "metadata": {},
   "source": [
    "### Introduction"
   ]
  },
  {
   "cell_type": "markdown",
   "metadata": {},
   "source": [
    "In this lesson, we'll practice applying Bayes Theorem.  Our formula for Bayes Theorem looks like the following:"
   ]
  },
  {
   "cell_type": "markdown",
   "metadata": {},
   "source": [
    "$P(H|E) = \\frac{P(E|H)*P(H)}{P(E)} = \\frac{P(E|H)*P(H)}{P(E|H)*P(H) + P(E|H^c)*P(H^c)}$"
   ]
  },
  {
   "cell_type": "markdown",
   "metadata": {},
   "source": [
    "### Email Spam"
   ]
  },
  {
   "cell_type": "markdown",
   "metadata": {},
   "source": [
    "Say that we are trying to use Bayes Theorem to detect calculate the probability that an email is spam.  We know the following:"
   ]
  },
  {
   "cell_type": "markdown",
   "metadata": {},
   "source": [
    "* $60$% of all email is Spam\n",
    "* $90$% of spam has a forged header\n",
    "* $20$% of non-spam has a forged header"
   ]
  },
  {
   "cell_type": "markdown",
   "metadata": {},
   "source": [
    "Let's define the following events $E$ and $H$:\n",
    "\n",
    "> * $E =$ message has a forged header\n",
    "> * $H =$ message is spam \n",
    "\n",
    "* What is $P(H|E)$?"
   ]
  },
  {
   "cell_type": "code",
   "execution_count": 1,
   "metadata": {},
   "outputs": [],
   "source": [
    "\n",
    "\n",
    "# 0.8709677419354838"
   ]
  },
  {
   "cell_type": "markdown",
   "metadata": {},
   "source": [
    "### Diagnosing Covid"
   ]
  },
  {
   "cell_type": "markdown",
   "metadata": {},
   "source": [
    "The US has been suffering from Covid, which (let's assume) has infected 10% of the US population.\n",
    "\n",
    "We have a test that has recall of 90% and specificity of 70%.  That is, of infected people in the US, 90% test positive, and 70% of non-infected test negative.\n",
    "\n",
    "If our test shows a positive result, what is the probability that the subject truly had covid?"
   ]
  },
  {
   "cell_type": "code",
   "execution_count": 2,
   "metadata": {},
   "outputs": [],
   "source": [
    "\n",
    "# .25"
   ]
  }
 ],
 "metadata": {
  "kernelspec": {
   "display_name": "Python 3",
   "language": "python",
   "name": "python3"
  },
  "language_info": {
   "codemirror_mode": {
    "name": "ipython",
    "version": 3
   },
   "file_extension": ".py",
   "mimetype": "text/x-python",
   "name": "python",
   "nbconvert_exporter": "python",
   "pygments_lexer": "ipython3",
   "version": "3.7.4"
  }
 },
 "nbformat": 4,
 "nbformat_minor": 4
}
